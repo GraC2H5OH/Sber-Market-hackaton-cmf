{
  "nbformat": 4,
  "nbformat_minor": 0,
  "metadata": {
    "colab": {
      "provenance": [],
      "collapsed_sections": []
    },
    "kernelspec": {
      "name": "python3",
      "display_name": "Python 3"
    },
    "language_info": {
      "name": "python"
    }
  },
  "cells": [
    {
      "cell_type": "code",
      "execution_count": null,
      "metadata": {
        "id": "85R1jjV_9jin"
      },
      "outputs": [],
      "source": [
        "import pandas as pd\n",
        "import numpy as np\n",
        "import gurobipy as gp\n",
        "from gurobipy import GRB\n",
        "import matplotlib.pyplot as plt\n",
        "import random"
      ]
    },
    {
      "cell_type": "code",
      "source": [
        "orders = pd.read_csv('orders.csv')\n",
        "couriers = pd.read_csv('partners_delays.csv')"
      ],
      "metadata": {
        "id": "E1dIDkJ9-IH_"
      },
      "execution_count": null,
      "outputs": []
    },
    {
      "cell_type": "code",
      "source": [
        "orders['date'] = pd.to_datetime(orders['date'])\n",
        "couriers['dttm'] = pd.to_datetime(couriers['dttm'])"
      ],
      "metadata": {
        "id": "DHK2fjXGNWuT"
      },
      "execution_count": null,
      "outputs": []
    },
    {
      "cell_type": "markdown",
      "source": [
        "### What's going on here? We expect to receive a dataset with the date, delivery zones, number of couriers and number of orders. At the output, we get a dataset in which the columns look like data_area, where \"data\" is the day without hours (2021-04-01), and \"area\" is the delivery area. We also have a \"time\" column, which contains numbers from 8 to 23, these are delivery hours, it will say how many couriers we need."
      ],
      "metadata": {
        "id": "KJrLJVGOz8Pc"
      }
    },
    {
      "cell_type": "code",
      "source": [
        "# I think the code could be cleaner and more efficient, but we didn't have time to think about it, \n",
        "# Eventually we didn't have time to predict the number of couriers\n",
        "def optimize(dataset):\n",
        "  index = 0\n",
        "  \n",
        "  # Here we want to find an index that will indicate the beginning and end of the day\n",
        "\n",
        "  for area in dataset['delivery_area_id'].unique():\n",
        "    for i in range(7):\n",
        "      start_date = dataset['dttm'].loc[index]\n",
        "      end_date = (dataset[(dataset['delivery_area_id'] == area) & (dataset['dttm'] < start_date + pd.DateOffset(days=1))]['dttm'].index)[-1]\n",
        "      ord_count = dataset['orders'][index:end_date + 1].sum()\n",
        "      dates = {}\n",
        "      for i in range(index, end_date+1):\n",
        "        dates[str(new.loc[i]['dttm'])] = new.loc[i]['orders']\n",
        "\n",
        "      max_workers = int(new['partners_cnt'][index:end_date+1].max()) # Max count of available couriers per day\n",
        "\n",
        "      worker = {}\n",
        "      for i in range(max_workers):\n",
        "        worker['{}'.format(i)] = 1 # Creating list of couriers per day\n",
        "      workers, pay = gp.multidict(worker)\n",
        "\n",
        "      c = 0\n",
        "      availability = gp.tuplelist([])  # Availability of couriers(when)\n",
        "      for i in range(index, end_date+1):\n",
        "        for k in range(int(new.loc[i]['partners_cnt'])):\n",
        "          if c == max_workers:\n",
        "            c = 0\n",
        "          availability.append(('{}'.format(workers[c]),'{}'.format(new.loc[i]['dttm'])))\n",
        "          c+= 1\n",
        "\n",
        "      index = end_date + 1\n",
        "      shifts, shiftRequirements = gp.multidict(dates) # Creating shifts\n",
        "\n",
        "      m = gp.Model(\"workforce5\")\n",
        "      x = m.addVars(availability, vtype=GRB.BINARY, name=\"x\")\n",
        "      slacks = m.addVars(shifts, name=\"Slack\")\n",
        "      totSlack = m.addVar(name='totSlack')\n",
        "      totShifts = m.addVars(workers, name=\"TotShifts\")\n",
        "      shift_reqmts = m.addConstrs((x.sum('*',s) + slacks[s] == shiftRequirements[s] for s in shifts), name='shiftRequirement')\n",
        "      num_temps = m.addConstr(totSlack == slacks.sum(), name='totSlack')\n",
        "      num_shifts = m.addConstrs((totShifts[w] == x.sum(w,'*') for w in workers), name='totShifts')\n",
        "      minShift = m.addVar(4, name='minShift')\n",
        "      maxShift = m.addVar(8,name='maxShift')\n",
        "      min_constr = m.addGenConstrMin(minShift, totShifts, name='minShift')\n",
        "\n",
        "      \"\"\"\n",
        "      If we remove '#' from next line of code we get a limit on max shift duration 8 hours\n",
        "          But there are days when this condition cannot be met, there are significantly fewer couriers than orders, and either someone\n",
        "          Does not receive his order, or someone works more than 8 hours (That's how I understood it)\n",
        "      \"\"\"\n",
        "\n",
        "      #max_constr = m.addGenConstrMin(maxShift, totShifts, name='maxShift')\n",
        "      m.ModelSense = GRB.MINIMIZE\n",
        "      m.setObjectiveN(totSlack, index=0, priority=2, reltol=0.2, name='TotalSlack')\n",
        "      m.setObjectiveN(maxShift - minShift, index=1, priority=1, name='Fairness')\n",
        "      m.write('workforce.lp')\n",
        "      m.optimize()\n",
        "      # The Status attribute  provides current optimization status of the model object m\n",
        "      # In workforce model, we check if the model is infeasible or unbounded and report this situation\n",
        "      status = m.Status\n",
        "      if status == GRB.Status.INF_OR_UNBD or status == GRB.Status.INFEASIBLE  or status == GRB.Status.UNBOUNDED:\n",
        "          print('The model cannot be solved because it is infeasible or unbounded')\n",
        "          sys.exit(0)\n",
        "      # If the optimization status of the model is not optimal for some other reason, we report that \n",
        "      # situation.\n",
        "      if status != GRB.Status.OPTIMAL:\n",
        "          print('Optimization was stopped with status ' + str(status))\n",
        "          sys.exit(0)\n",
        "\n",
        "      # Print total slack and the number of shifts worked for each worker\n",
        "      # The KPIs for this optimization number is the number of extra worked required to satisfy \n",
        "      # demand and the number of shifts that each employed worker is working.\n",
        "      solution = {}\n",
        "      shifts_sol = {}\n",
        "      solution['Total slack required'] = str(totSlack.X)\n",
        "      assignments_all = {}\n",
        "      gant={}\n",
        "\n",
        "      assignments = dict()\n",
        "      for [w, s] in availability:\n",
        "          if x[w, s].x == 1:\n",
        "              if w in assignments:\n",
        "                  assignments[w].append(s)\n",
        "              else:\n",
        "                  assignments[w] = [s]\n",
        "\n",
        "      \n",
        "      # Remove '#' if you want to see distribution of shifts of couriers on plots >>>\n",
        "      \n",
        "      #print(pd.DataFrame.from_records(list(solution.items()), columns=['KPI', 'Value']))\n",
        "      #print('-'*50)\n",
        "\n",
        "      for w in workers:\n",
        "          shifts_sol[w]=totShifts[w].X\n",
        "          assignments_all[w]=assignments.get(w, [])\n",
        "\n",
        "      #print('Shifts')\n",
        "      #print(pd.DataFrame.from_records(list(shifts_sol.items()), columns=['Worker', 'Number of shifts']))\n",
        "          \n",
        "      y_pos = np.arange(len(shifts_sol.keys())) \n",
        "      #plt.bar(y_pos,shifts_sol.values() , align='center')\n",
        "      #plt.xticks(y_pos, shifts_sol.keys())\n",
        "      #plt.show()\n",
        "\n",
        "      #print('-'*50)\n",
        "      for w in assignments_all:\n",
        "          gant[w] = [w]\n",
        "          for d in shifts:\n",
        "              gant[w].append('*' if d in assignments_all[w] else '-')\n",
        "\n",
        "      #print('Assigments')\n",
        "      #print('Symbols: \\'-\\': not working, \\'*\\': working')\n",
        "      #pd.set_option('display.width', 1000)\n",
        "      #print(pd.DataFrame.from_records(list(gant.values()), columns=['worker']+shifts))\n",
        "      #print(pd.DataFrame.from_records(list(gant.values())))\n",
        "      df['{}'.format(str(start_date)[:10])+\"_\"+str(area)] = 0\n",
        "      for i in range(len(shifts)):\n",
        "        cour = 0\n",
        "        for k in workers:\n",
        "          if gant[k][i +1 ] == '*':\n",
        "            cour += 1\n",
        "\n",
        "        ind = df[(df['time'] == pd.to_datetime(shifts[i]).hour)].index\n",
        "        df['{}'.format(str(shifts[i])[:10])+\"_\"+str(area)][ind] = cour\n",
        "  return df"
      ],
      "metadata": {
        "id": "0lACci8HixJ0"
      },
      "execution_count": null,
      "outputs": []
    },
    {
      "cell_type": "code",
      "source": [
        "optimize(couriers)"
      ],
      "metadata": {
        "id": "xb4ETDBt0CP5"
      },
      "execution_count": null,
      "outputs": []
    }
  ]
}