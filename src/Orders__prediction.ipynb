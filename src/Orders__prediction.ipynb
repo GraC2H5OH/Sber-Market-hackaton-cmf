{
  "nbformat": 4,
  "nbformat_minor": 0,
  "metadata": {
    "colab": {
      "provenance": [],
      "collapsed_sections": []
    },
    "kernelspec": {
      "name": "python3",
      "display_name": "Python 3"
    },
    "language_info": {
      "name": "python"
    }
  },
  "cells": [
    {
      "cell_type": "code",
      "execution_count": null,
      "metadata": {
        "id": "2uX7wTaw-kLI",
        "outputId": "f3744000-ef25-4e6d-c27f-7a8604a92b4c",
        "colab": {
          "base_uri": "https://localhost:8080/"
        }
      },
      "outputs": [
        {
          "output_type": "stream",
          "name": "stdout",
          "text": [
            "Looking in indexes: https://pypi.org/simple, https://us-python.pkg.dev/colab-wheels/public/simple/\n",
            "Requirement already satisfied: lightgbm in /usr/local/lib/python3.7/dist-packages (2.2.3)\n",
            "Requirement already satisfied: scikit-learn in /usr/local/lib/python3.7/dist-packages (from lightgbm) (1.0.2)\n",
            "Requirement already satisfied: numpy in /usr/local/lib/python3.7/dist-packages (from lightgbm) (1.21.6)\n",
            "Requirement already satisfied: scipy in /usr/local/lib/python3.7/dist-packages (from lightgbm) (1.7.3)\n",
            "Requirement already satisfied: threadpoolctl>=2.0.0 in /usr/local/lib/python3.7/dist-packages (from scikit-learn->lightgbm) (3.1.0)\n",
            "Requirement already satisfied: joblib>=0.11 in /usr/local/lib/python3.7/dist-packages (from scikit-learn->lightgbm) (1.2.0)\n"
          ]
        }
      ],
      "source": [
        "import pandas as pd\n",
        "import numpy as np\n",
        "from sklearn.neighbors import KNeighborsRegressor\n",
        "from sklearn.linear_model import LinearRegression, LogisticRegression\n",
        "from sklearn.svm import SVR\n",
        "from sklearn.ensemble import RandomForestRegressor\n",
        "from sklearn.metrics import r2_score\n",
        "from sklearn.model_selection import train_test_split\n",
        "import seaborn as sns\n",
        "from sklearn import metrics\n",
        "import pickle\n",
        "%pip install lightgbm"
      ]
    },
    {
      "cell_type": "code",
      "source": [
        "bd = pd.read_csv('orders.csv', sep=',')"
      ],
      "metadata": {
        "id": "lTaYvCzI-tTQ"
      },
      "execution_count": null,
      "outputs": []
    },
    {
      "cell_type": "code",
      "source": [
        "# add columns to dataset\n",
        "def stat_features(bd):\n",
        "  fast_ma=7\n",
        "  slow_ma=14\n",
        "  bd['sred_za_7d']=bd['kol-vo-z'].rolling(window=fast_ma).mean()          #mean orders count by 7 hours\n",
        "  bd['sred_za_14d']=bd['kol-vo-z'].rolling(window=slow_ma).mean()         #mean orders count by 14 hours\n",
        "  bd['50%_sz7d+50%_sz14d'] = bd['sred_za_7d'] /2 + bd['sred_za_14d']/2    #sum of 50% mean by 7 hours and 15 hours \n",
        "  bd=bd[14:]                                                              #remove NaN\n",
        "  return bd"
      ],
      "metadata": {
        "id": "kSxRj01C_0i6"
      },
      "execution_count": null,
      "outputs": []
    },
    {
      "cell_type": "markdown",
      "source": [
        "## Holiday"
      ],
      "metadata": {
        "id": "f6FXmEP6oCwY"
      }
    },
    {
      "cell_type": "code",
      "source": [
        "def is_holiday(data):\n",
        "  holid = [pd.to_datetime('2021-05-01 00:00:00'),\n",
        "          pd.to_datetime('2021-05-09 00:00:00'),\n",
        "          pd.to_datetime('2021-06-12 00:00:00'),pd.to_datetime('2021-11-04 00:00:00')]\n",
        "          \n",
        "  data['holiday'] = 0\n",
        "  data['holiday'][(data['date'] == holid[0])] = 1\n",
        "  data['holiday'][(data['date'] == holid[1])] = 1\n",
        "  data['holiday'][(data['date'] == holid[2])] = 1\n",
        "  data['holiday'][(data['date'] == holid[3])] = 1\n",
        "  return data"
      ],
      "metadata": {
        "id": "9ppqUuU_b-LS"
      },
      "execution_count": null,
      "outputs": []
    },
    {
      "cell_type": "markdown",
      "source": [
        "## Days until holiday"
      ],
      "metadata": {
        "id": "1cNY8NuaoUiM"
      }
    },
    {
      "cell_type": "code",
      "source": [
        "def days_until_holiday(data):\n",
        "  holid = [pd.to_datetime('2021-05-01 00:00:00'),\n",
        "          pd.to_datetime('2021-05-09 00:00:00'),\n",
        "          pd.to_datetime('2021-06-12 00:00:00'),pd.to_datetime('2021-11-04 00:00:00')]\n",
        "  data['days_until_holiday'] = 0\n",
        "  days_left = {}\n",
        "  start_date = pd.to_datetime('2021-04-01')\n",
        "  date = [start_date +pd.DateOffset(days=i)for i in range(244)]\n",
        "  k = 0\n",
        "  for i,j in enumerate(date):\n",
        "    if j < holid[k]:\n",
        "      days_left[j] = (holid[k] - j).days\n",
        "    else:\n",
        "      days_left[j] = 0\n",
        "      k += 1\n",
        "    if k > 3:\n",
        "      break\n",
        "  for k in range(i + 1, len(date)):\n",
        "    days_left[date[k]] = -1\n",
        "  data['days_until_holiday'] = data['date'].map(days_left)\n",
        "  return data"
      ],
      "metadata": {
        "id": "sOz--DqwcJO5"
      },
      "execution_count": null,
      "outputs": []
    },
    {
      "cell_type": "markdown",
      "source": [
        "## Mean by region"
      ],
      "metadata": {
        "id": "ZYbL5pPIoYrr"
      }
    },
    {
      "cell_type": "code",
      "source": [
        "def mean_by_region(data):\n",
        "  areas_list = [data[data['delivery_area_id']==i]for i in range(len(data['delivery_area_id'].unique()))]\n",
        "  mean_by_area = [areas_list[i]['kol-vo-z'].mean()for i in range(len(areas_list))]\n",
        "\n",
        "  data['mean_by_area'] = 0\n",
        "  old = 0\n",
        "  new = 0\n",
        "\n",
        "  for i, j in enumerate(areas_list):\n",
        "    new += len(j)\n",
        "    data['mean_by_area'][old:new] = mean_by_area[i]\n",
        "    old = new\n",
        "  return data"
      ],
      "metadata": {
        "id": "5Gtzb8RLb5b6"
      },
      "execution_count": null,
      "outputs": []
    },
    {
      "cell_type": "markdown",
      "source": [
        "## Median by region\n"
      ],
      "metadata": {
        "id": "oP2E_84IofAK"
      }
    },
    {
      "cell_type": "code",
      "source": [
        "def median_by_region(data):\n",
        "  areas_list = [data[data['delivery_area_id']==i]for i in range(len(data['delivery_area_id'].unique()))]\n",
        "  median_by_area = [areas_list[i]['kol-vo-z'].median()for i in range(len(areas_list))]\n",
        "  data['median_by_area'] = 0\n",
        "  old = 0\n",
        "  new = 0\n",
        "\n",
        "  for i, j in enumerate(areas_list):\n",
        "    new += len(j)\n",
        "    data['median_by_area'][old:new] = median_by_area[i]\n",
        "    old = new\n",
        "  return data"
      ],
      "metadata": {
        "id": "XB_fERwJcs9i"
      },
      "execution_count": null,
      "outputs": []
    },
    {
      "cell_type": "markdown",
      "source": [
        "\n",
        "\n",
        "## Mean by week"
      ],
      "metadata": {
        "id": "evbygNPPohsy"
      }
    },
    {
      "cell_type": "code",
      "source": [
        "def mean_by_week(data):\n",
        "  data['mean_by_week'] = 0\n",
        "  mean_by_week_area = []\n",
        "  global_index = 0\n",
        "  old = 0\n",
        "  last_index = 0\n",
        "  areas_list = [data[data['delivery_area_id']==i]for i in range(len(data['delivery_area_id'].unique()))]\n",
        "\n",
        "  for i,j in enumerate(areas_list):\n",
        "    sum_of_orders = 0\n",
        "    order_count = 0\n",
        "    days = len(j['date'].value_counts())\n",
        "    start_date = (j['date'].reset_index(drop=True))[0]\n",
        "    last_index = j[-1:].index\n",
        "    if days % 7 != 0:\n",
        "      part = days % 7\n",
        "    \n",
        "    for day, order in zip(j['date'], j['kol-vo-z']):\n",
        "      if (days >= 7 and day >= start_date + pd.DateOffset(days=7)) or ((days < 7) and (day >= pd.to_datetime((j['date'][-1:].values)[0]) and (last_index == global_index))):\n",
        "        \n",
        "        days -= 7\n",
        "        start_date += pd.DateOffset(days=7)\n",
        "        if order_count == 0:\n",
        "\n",
        "          data['mean_by_week'][old:global_index + 1] = 0\n",
        "        else:\n",
        "          data['mean_by_week'][old:global_index + 1] = sum_of_orders/order_count\n",
        "        old = global_index\n",
        "        sum_of_orders = 0\n",
        "        order_count = 0\n",
        "\n",
        "          \n",
        "      sum_of_orders += order\n",
        "      order_count += 1\n",
        "      global_index += 1\n",
        "  return data"
      ],
      "metadata": {
        "id": "c2MHrsm2c0ZG"
      },
      "execution_count": null,
      "outputs": []
    },
    {
      "cell_type": "markdown",
      "source": [
        "# Median by week"
      ],
      "metadata": {
        "id": "4gKGEHU-omkp"
      }
    },
    {
      "cell_type": "code",
      "source": [
        "def median_by_week(data):\n",
        "  data['median_by_week'] = 0\n",
        "  median_by_week_area = 0\n",
        "  global_index = 0\n",
        "  old = 0\n",
        "  last_index = 0\n",
        "  areas_list = [data[data['delivery_area_id']==i]for i in range(len(data['delivery_area_id'].unique()))]\n",
        "\n",
        "  for i,j in enumerate(areas_list):\n",
        "    list_of_orders = []\n",
        "    days = len(j['date'].value_counts())\n",
        "    start_date = (j['date'].reset_index(drop=True))[0]\n",
        "    last_index = j[-1:].index\n",
        "    if days % 7 != 0:\n",
        "      part = days % 7\n",
        "    \n",
        "    for day, order in zip(j['date'], j['kol-vo-z']):\n",
        "      if (days >= 7 and day >= start_date + pd.DateOffset(days=7)) or ((days < 7) and (day >= pd.to_datetime((j['date'][-1:].values)[0]) and (last_index == global_index))):\n",
        "        list_of_orders.sort()\n",
        "        if len(list_of_orders) % 2 == 0:\n",
        "          median_by_week_area = (list_of_orders[int(len(list_of_orders)/2)] + list_of_orders[int((len(list_of_orders)/2)) -1]) / 2\n",
        "        else:\n",
        "          median_by_week_area = list_of_orders[int(len(list_of_orders)/2)]\n",
        "        days -= 7\n",
        "        start_date += pd.DateOffset(days=7)\n",
        "        data['median_by_week'][old:global_index + 1] = median_by_week_area\n",
        "        old = global_index\n",
        "        list_of_orders = []\n",
        "\n",
        "          \n",
        "      list_of_orders.append(order)\n",
        "      global_index += 1\n",
        "  return data"
      ],
      "metadata": {
        "id": "qAPjP0RYc5d3"
      },
      "execution_count": null,
      "outputs": []
    },
    {
      "cell_type": "markdown",
      "source": [
        "## Standard deviation by week"
      ],
      "metadata": {
        "id": "IKZVlt9boqQk"
      }
    },
    {
      "cell_type": "code",
      "source": [
        "def std_by_week(data):\n",
        "  data['std_by_week'] = 0\n",
        "  median_by_week_area = 0\n",
        "  global_index = 0\n",
        "  old = 0\n",
        "  last_index = 0\n",
        "  areas_list = [data[data['delivery_area_id']==i]for i in range(len(data['delivery_area_id'].unique()))]\n",
        "\n",
        "  for i,j in enumerate(areas_list):\n",
        "    list_of_orders = []\n",
        "    days = len(j['date'].value_counts())\n",
        "    start_date = (j['date'].reset_index(drop=True))[0]\n",
        "    last_index = j[-1:].index\n",
        "    if days % 7 != 0:\n",
        "      part = days % 7\n",
        "    \n",
        "    for day, order in zip(j['date'], j['kol-vo-z']):\n",
        "      if (days >= 7 and day >= start_date + pd.DateOffset(days=7)) or ((days < 7) and (day >= pd.to_datetime((j['date'][-1:].values)[0]) and (last_index == global_index))):\n",
        "        sttd = np.std(np.array(list_of_orders))\n",
        "        start_date += pd.DateOffset(days=7)\n",
        "        data['std_by_week'][old:global_index + 1] = sttd\n",
        "        old = global_index\n",
        "        list_of_orders = []\n",
        "        order_count = 0\n",
        "\n",
        "          \n",
        "      list_of_orders.append(order)\n",
        "      global_index += 1\n",
        "  return data"
      ],
      "metadata": {
        "id": "Gu_gy_FZdH6W"
      },
      "execution_count": null,
      "outputs": []
    },
    {
      "cell_type": "markdown",
      "source": [
        "## sqrt, log, sqr"
      ],
      "metadata": {
        "id": "4K4REGnEoti3"
      }
    },
    {
      "cell_type": "code",
      "source": [
        "def math_transforms(data):\n",
        "  data['target_sqrt'] = 0\n",
        "  data['target_sqrt'][1:]=np.sqrt(data['kol-vo-z'][:-1])\n",
        "  data['target_log'] = 0\n",
        "  data['target_log'][1:] = np.log(data['kol-vo-z'][:-1])\n",
        "  data['target_sqr'] = 0\n",
        "  data['target_sqr'][1:] = data['kol-vo-z'][:-1]**2\n",
        "  return data"
      ],
      "metadata": {
        "id": "et2kfpkgFN9F"
      },
      "execution_count": null,
      "outputs": []
    },
    {
      "cell_type": "markdown",
      "source": [
        "## Day of week.Is day a weekend"
      ],
      "metadata": {
        "id": "ZHW88TDIo25D"
      }
    },
    {
      "cell_type": "code",
      "source": [
        "def day_of_week_and_is_day_weeked(data):\n",
        "  wod = {}\n",
        "  weekend = {}\n",
        "  for i in data['date'].unique():\n",
        "    wod[pd.to_datetime(i)] = pd.to_datetime(i).weekday()\n",
        "    weekend[pd.to_datetime(i)] = (pd.to_datetime(i).weekday()) >= 5\n",
        "  data['weekend'] = data['date'].map(weekend)\n",
        "  data['day_of_week'] = data['date'].map(wod)\n",
        "  data['weekend'] = data['weekend'].map({True:1, False:0})\n",
        "  return data\n"
      ],
      "metadata": {
        "id": "vE4pUB3jddp3"
      },
      "execution_count": null,
      "outputs": []
    },
    {
      "cell_type": "markdown",
      "source": [
        "### Next cells dont need to be run, they are need only to show how we fitted our model"
      ],
      "metadata": {
        "id": "0ii5aDmGyd6b"
      }
    },
    {
      "cell_type": "code",
      "source": [
        "y = bd[['kol-vo-z']]\n",
        "X = bd.drop(['kol-vo-z'], axis=1)"
      ],
      "metadata": {
        "id": "gCjvXZjXgpEo"
      },
      "execution_count": null,
      "outputs": []
    },
    {
      "cell_type": "markdown",
      "source": [
        "LightGBM"
      ],
      "metadata": {
        "id": "IbpCeABbG1_j"
      }
    },
    {
      "cell_type": "code",
      "source": [
        "X_train, X_test, y_train, y_test = train_test_split(X, y, \n",
        "                                                    test_size = 0.2, \n",
        "                                                    random_state = 0)"
      ],
      "metadata": {
        "id": "5Ch13TlZHTmy"
      },
      "execution_count": null,
      "outputs": []
    },
    {
      "cell_type": "code",
      "source": [
        "from sklearn import preprocessing\n",
        "lbl = preprocessing.LabelEncoder()\n",
        "X_train['date'] = lbl.fit_transform(X_train['date'].astype(str))\n",
        "X_test['date'] = lbl.fit_transform(X_test['date'].astype(str))"
      ],
      "metadata": {
        "id": "ou0ZS3t8JAYm"
      },
      "execution_count": null,
      "outputs": []
    },
    {
      "cell_type": "code",
      "source": [
        "import lightgbm as lgb\n",
        "\n",
        "# initialzing the model\n",
        "model = lgb.LGBMRegressor()\n",
        "\n",
        "# train the model\n",
        "model.fit(X_train,y_train)"
      ],
      "metadata": {
        "colab": {
          "base_uri": "https://localhost:8080/"
        },
        "id": "069vWAqyG1g9",
        "outputId": "3f654406-24f8-40aa-baa6-83ce3f1ed13f"
      },
      "execution_count": null,
      "outputs": [
        {
          "output_type": "execute_result",
          "data": {
            "text/plain": [
              "LGBMRegressor()"
            ]
          },
          "metadata": {},
          "execution_count": 31
        }
      ]
    },
    {
      "cell_type": "code",
      "source": [
        "lightR_predict = model.predict(X_test)"
      ],
      "metadata": {
        "id": "3gTJIKUEJmUm"
      },
      "execution_count": null,
      "outputs": []
    },
    {
      "cell_type": "code",
      "source": [
        "import matplotlib.pyplot as plt\n",
        "\n",
        "# fitting the size of the plot\n",
        "plt.figure(figsize=(15, 8))\n",
        "\n",
        "# plotting the graphs\n",
        "plt.plot([i for i in range(len(y_test))],y_test, label=\"actual values\")\n",
        "plt.plot([i for i in range(len(y_test))],lightR_predict, label=\"Predicted values\")\n",
        "\n",
        "# showing the plotting\n",
        "plt.legend()\n",
        "plt.show()"
      ],
      "metadata": {
        "colab": {
          "base_uri": "https://localhost:8080/",
          "height": 483
        },
        "id": "iRgRpUehJ6ig",
        "outputId": "339e6f7a-5e13-4031-db9a-7c08106de369"
      },
      "execution_count": null,
      "outputs": [
        {
          "output_type": "display_data",
          "data": {
            "text/plain": [
              "<Figure size 1080x576 with 1 Axes>"
            ],
            "image/png": "[encoded data removed]"
          },
          "metadata": {
            "needs_background": "light"
          }
        }
      ]
    },
    {
      "cell_type": "code",
      "source": [
        "print('R2:', np.round(metrics.r2_score(y_test, lightR_predict), 2))\n",
        "print('MAE:',metrics.mean_absolute_error(y_test, lightR_predict))"
      ],
      "metadata": {
        "colab": {
          "base_uri": "https://localhost:8080/"
        },
        "id": "SrURtVI1KInA",
        "outputId": "a0c01d78-05f9-47de-dd53-177d8a4a94da"
      },
      "execution_count": null,
      "outputs": [
        {
          "output_type": "stream",
          "name": "stdout",
          "text": [
            "R2: 0.7\n",
            "MAE: 1.3855744569642972\n"
          ]
        }
      ]
    },
    {
      "cell_type": "code",
      "source": [
        "lgb.plot_importance(model)"
      ],
      "metadata": {
        "id": "H8Xl21t3MNUX",
        "colab": {
          "base_uri": "https://localhost:8080/",
          "height": 312
        },
        "outputId": "386b0bb6-9823-43ce-ba6a-6935ca687ec2"
      },
      "execution_count": null,
      "outputs": [
        {
          "output_type": "execute_result",
          "data": {
            "text/plain": [
              "<matplotlib.axes._subplots.AxesSubplot at 0x7fee0ffaae50>"
            ]
          },
          "metadata": {},
          "execution_count": 75
        },
        {
          "output_type": "display_data",
          "data": {
            "text/plain": [
              "<Figure size 432x288 with 1 Axes>"
            ],
            "image/png": "[encoded data removed]"
          },
          "metadata": {
            "needs_background": "light"
          }
        }
      ]
    },
    {
      "cell_type": "code",
      "source": [
        "#model.booster_.save_model('mode.txt')"
      ],
      "metadata": {
        "colab": {
          "base_uri": "https://localhost:8080/"
        },
        "id": "s56q88ToBiLY",
        "outputId": "2f07b09b-1c4a-40e6-8937-d73569d2bcc8"
      },
      "execution_count": null,
      "outputs": [
        {
          "output_type": "execute_result",
          "data": {
            "text/plain": [
              "<lightgbm.basic.Booster at 0x7f010c10c390>"
            ]
          },
          "metadata": {},
          "execution_count": 32
        }
      ]
    },
    {
      "cell_type": "markdown",
      "source": [
        "### The function takes as input dataset with target to calculate the features and various statistics. But there is a problem, we want our orders_count prediction model to predict the target which is used to calculate the features - it's a vicious circle. We cant predict target without features which is calculated on target.We noticed it too late and didn't have time to do anything about it."
      ],
      "metadata": {
        "id": "foiNoyhyxgiJ"
      }
    },
    {
      "cell_type": "code",
      "source": [
        "def transforms_and_predictions(bd):\n",
        "  # указываем кол-во заказов  7 и 14 дней назад\n",
        "  bd = pd.concat([bd, bd['orders_cnt'].shift(7), bd['orders_cnt'].shift(14)], axis=1)\n",
        "  bd.columns= ['delivery_area_id', 'date','kol-vo-z', 'back_7d_z', 'back_14d_z'] # переименовываю столбцы\n",
        "  bd = stat_features(bd)\n",
        "  bd['date'] = pd.to_datetime(bd['date'],errors='coerce') #  столбец date  преобразуем в дату \n",
        "  bd_date = bd \n",
        "\n",
        "  data = bd\n",
        "  # Применяем кучу преобразований\n",
        "  data.date = data.date.astype('str') \n",
        "  data.date = data.date.str.slice(start=0, stop=10)\n",
        "  data['date'] = pd.to_datetime(data['date'])\n",
        "  data = is_holiday(data)\n",
        "  data = days_until_holiday(data)\n",
        "  data = mean_by_region(data)\n",
        "  data = median_by_region(data)\n",
        "  data = mean_by_week(data)\n",
        "  data = std_by_week(data)\n",
        "  data = median_by_week(data)\n",
        "  data = math_transforms(data)\n",
        "  data = day_of_week_and_is_day_weeked(data)\n",
        "\n",
        "  # Возвращаем время\n",
        "  bd = data\n",
        "  bd['date'] = bd_date['date']\n",
        "  bd['date'] = bd['date'].dt.strftime(\"%d%m%Y%H%M%S\")\n",
        "\n",
        "  lbl = preprocessing.LabelEncoder()\n",
        "  bd['date'] = lbl.fit_transform(bd['date'].astype(str))\n",
        "\n",
        "  bst = lgb.Booster(model_file='mode.txt') # Загружаем веса\n",
        "\n",
        "  y_pred = bst.predict(bd)\n",
        "\n",
        "  y_predf = pd.DataFrame(y_pred, columns = ['y_pred'])\n",
        "  return y_predf"
      ],
      "metadata": {
        "id": "bUeWzQeH4bjz"
      },
      "execution_count": null,
      "outputs": []
    }
  ]
}